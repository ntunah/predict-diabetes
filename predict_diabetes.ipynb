{
 "cells": [
  {
   "cell_type": "code",
   "execution_count": null,
   "metadata": {},
   "outputs": [],
   "source": [
    "# K Nearest Neighbors - Supervise Machine Learning\n",
    "# It classifies a data point based on hw its neighbors are classified"
   ]
  },
  {
   "cell_type": "code",
   "execution_count": null,
   "metadata": {},
   "outputs": [],
   "source": [
    "# KNN stores all available cases and classifies new cases based on a similarity measure"
   ]
  },
  {
   "cell_type": "code",
   "execution_count": null,
   "metadata": {},
   "outputs": [],
   "source": [
    "# How do we choose the fathor 'K'?\n",
    "# Chhosing the right value of k is a process called parameter tunning , and is important for better accuracy\n",
    "\n",
    "# TO choose a value of k:\n",
    "# 1. Sqrt(n) => Where n is the total number of data points\n",
    "# 2. Odd value of k is selected to avoid confusion between two classes of data"
   ]
  },
  {
   "cell_type": "code",
   "execution_count": null,
   "metadata": {},
   "outputs": [],
   "source": [
    "# When do we use KNN Algorithm?\n",
    "# 1. Data is labeled\n",
    "# 2. Data is noise free\n",
    "# 3. Dataset is small"
   ]
  },
  {
   "cell_type": "code",
   "execution_count": null,
   "metadata": {},
   "outputs": [],
   "source": [
    "# KNN -- Predict Diabetes"
   ]
  },
  {
   "cell_type": "code",
   "execution_count": null,
   "metadata": {},
   "outputs": [],
   "source": [
    "# Statement\n",
    "# Predict whether a person willl be diagnosed with diabetes or not"
   ]
  },
  {
   "cell_type": "code",
   "execution_count": 1,
   "metadata": {},
   "outputs": [],
   "source": [
    "# Import neccessary libraries\n",
    "import pandas as pd\n",
    "import numpy as np\n",
    "from sklearn.model_selection import train_test_split\n",
    "from sklearn.preprocessing import StandardScaler\n",
    "from sklearn.neighbors import KNeighborsClassifier\n",
    "from sklearn.metrics import confusion_matrix\n",
    "from sklearn.metrics import f1_score\n",
    "from sklearn.metrics import accuracy_score"
   ]
  },
  {
   "cell_type": "code",
   "execution_count": 3,
   "metadata": {},
   "outputs": [
    {
     "data": {
      "text/html": [
       "<div>\n",
       "<style scoped>\n",
       "    .dataframe tbody tr th:only-of-type {\n",
       "        vertical-align: middle;\n",
       "    }\n",
       "\n",
       "    .dataframe tbody tr th {\n",
       "        vertical-align: top;\n",
       "    }\n",
       "\n",
       "    .dataframe thead th {\n",
       "        text-align: right;\n",
       "    }\n",
       "</style>\n",
       "<table border=\"1\" class=\"dataframe\">\n",
       "  <thead>\n",
       "    <tr style=\"text-align: right;\">\n",
       "      <th></th>\n",
       "      <th>preg</th>\n",
       "      <th>plas</th>\n",
       "      <th>pres</th>\n",
       "      <th>skin</th>\n",
       "      <th>insu</th>\n",
       "      <th>mass</th>\n",
       "      <th>pedi</th>\n",
       "      <th>age</th>\n",
       "      <th>class</th>\n",
       "    </tr>\n",
       "  </thead>\n",
       "  <tbody>\n",
       "    <tr>\n",
       "      <th>0</th>\n",
       "      <td>6</td>\n",
       "      <td>148</td>\n",
       "      <td>72</td>\n",
       "      <td>35</td>\n",
       "      <td>0</td>\n",
       "      <td>33.6</td>\n",
       "      <td>0.627</td>\n",
       "      <td>50</td>\n",
       "      <td>tested_positive</td>\n",
       "    </tr>\n",
       "    <tr>\n",
       "      <th>1</th>\n",
       "      <td>1</td>\n",
       "      <td>85</td>\n",
       "      <td>66</td>\n",
       "      <td>29</td>\n",
       "      <td>0</td>\n",
       "      <td>26.6</td>\n",
       "      <td>0.351</td>\n",
       "      <td>31</td>\n",
       "      <td>tested_negative</td>\n",
       "    </tr>\n",
       "    <tr>\n",
       "      <th>2</th>\n",
       "      <td>8</td>\n",
       "      <td>183</td>\n",
       "      <td>64</td>\n",
       "      <td>0</td>\n",
       "      <td>0</td>\n",
       "      <td>23.3</td>\n",
       "      <td>0.672</td>\n",
       "      <td>32</td>\n",
       "      <td>tested_positive</td>\n",
       "    </tr>\n",
       "    <tr>\n",
       "      <th>3</th>\n",
       "      <td>1</td>\n",
       "      <td>89</td>\n",
       "      <td>66</td>\n",
       "      <td>23</td>\n",
       "      <td>94</td>\n",
       "      <td>28.1</td>\n",
       "      <td>0.167</td>\n",
       "      <td>21</td>\n",
       "      <td>tested_negative</td>\n",
       "    </tr>\n",
       "    <tr>\n",
       "      <th>4</th>\n",
       "      <td>0</td>\n",
       "      <td>137</td>\n",
       "      <td>40</td>\n",
       "      <td>35</td>\n",
       "      <td>168</td>\n",
       "      <td>43.1</td>\n",
       "      <td>2.288</td>\n",
       "      <td>33</td>\n",
       "      <td>tested_positive</td>\n",
       "    </tr>\n",
       "  </tbody>\n",
       "</table>\n",
       "</div>"
      ],
      "text/plain": [
       "   preg  plas  pres  skin  insu  mass   pedi  age            class\n",
       "0     6   148    72    35     0  33.6  0.627   50  tested_positive\n",
       "1     1    85    66    29     0  26.6  0.351   31  tested_negative\n",
       "2     8   183    64     0     0  23.3  0.672   32  tested_positive\n",
       "3     1    89    66    23    94  28.1  0.167   21  tested_negative\n",
       "4     0   137    40    35   168  43.1  2.288   33  tested_positive"
      ]
     },
     "execution_count": 3,
     "metadata": {},
     "output_type": "execute_result"
    }
   ],
   "source": [
    "dataset = pd.read_csv('diabetes_csv.csv')\n",
    "dataset.head()"
   ]
  },
  {
   "cell_type": "code",
   "execution_count": 5,
   "metadata": {},
   "outputs": [
    {
     "data": {
      "text/html": [
       "<div>\n",
       "<style scoped>\n",
       "    .dataframe tbody tr th:only-of-type {\n",
       "        vertical-align: middle;\n",
       "    }\n",
       "\n",
       "    .dataframe tbody tr th {\n",
       "        vertical-align: top;\n",
       "    }\n",
       "\n",
       "    .dataframe thead th {\n",
       "        text-align: right;\n",
       "    }\n",
       "</style>\n",
       "<table border=\"1\" class=\"dataframe\">\n",
       "  <thead>\n",
       "    <tr style=\"text-align: right;\">\n",
       "      <th></th>\n",
       "      <th>preg</th>\n",
       "      <th>plas</th>\n",
       "      <th>pres</th>\n",
       "      <th>skin</th>\n",
       "      <th>insu</th>\n",
       "      <th>mass</th>\n",
       "      <th>pedi</th>\n",
       "      <th>age</th>\n",
       "      <th>class</th>\n",
       "    </tr>\n",
       "  </thead>\n",
       "  <tbody>\n",
       "    <tr>\n",
       "      <th>763</th>\n",
       "      <td>10</td>\n",
       "      <td>101</td>\n",
       "      <td>76</td>\n",
       "      <td>48</td>\n",
       "      <td>180</td>\n",
       "      <td>32.9</td>\n",
       "      <td>0.171</td>\n",
       "      <td>63</td>\n",
       "      <td>tested_negative</td>\n",
       "    </tr>\n",
       "    <tr>\n",
       "      <th>764</th>\n",
       "      <td>2</td>\n",
       "      <td>122</td>\n",
       "      <td>70</td>\n",
       "      <td>27</td>\n",
       "      <td>0</td>\n",
       "      <td>36.8</td>\n",
       "      <td>0.340</td>\n",
       "      <td>27</td>\n",
       "      <td>tested_negative</td>\n",
       "    </tr>\n",
       "    <tr>\n",
       "      <th>765</th>\n",
       "      <td>5</td>\n",
       "      <td>121</td>\n",
       "      <td>72</td>\n",
       "      <td>23</td>\n",
       "      <td>112</td>\n",
       "      <td>26.2</td>\n",
       "      <td>0.245</td>\n",
       "      <td>30</td>\n",
       "      <td>tested_negative</td>\n",
       "    </tr>\n",
       "    <tr>\n",
       "      <th>766</th>\n",
       "      <td>1</td>\n",
       "      <td>126</td>\n",
       "      <td>60</td>\n",
       "      <td>0</td>\n",
       "      <td>0</td>\n",
       "      <td>30.1</td>\n",
       "      <td>0.349</td>\n",
       "      <td>47</td>\n",
       "      <td>tested_positive</td>\n",
       "    </tr>\n",
       "    <tr>\n",
       "      <th>767</th>\n",
       "      <td>1</td>\n",
       "      <td>93</td>\n",
       "      <td>70</td>\n",
       "      <td>31</td>\n",
       "      <td>0</td>\n",
       "      <td>30.4</td>\n",
       "      <td>0.315</td>\n",
       "      <td>23</td>\n",
       "      <td>tested_negative</td>\n",
       "    </tr>\n",
       "  </tbody>\n",
       "</table>\n",
       "</div>"
      ],
      "text/plain": [
       "     preg  plas  pres  skin  insu  mass   pedi  age            class\n",
       "763    10   101    76    48   180  32.9  0.171   63  tested_negative\n",
       "764     2   122    70    27     0  36.8  0.340   27  tested_negative\n",
       "765     5   121    72    23   112  26.2  0.245   30  tested_negative\n",
       "766     1   126    60     0     0  30.1  0.349   47  tested_positive\n",
       "767     1    93    70    31     0  30.4  0.315   23  tested_negative"
      ]
     },
     "execution_count": 5,
     "metadata": {},
     "output_type": "execute_result"
    }
   ],
   "source": [
    "dataset.tail()"
   ]
  },
  {
   "cell_type": "code",
   "execution_count": 12,
   "metadata": {},
   "outputs": [
    {
     "data": {
      "text/plain": [
       "preg       int64\n",
       "plas     float64\n",
       "pres       int64\n",
       "skin       int64\n",
       "insu       int64\n",
       "mass     float64\n",
       "pedi     float64\n",
       "age        int64\n",
       "class     object\n",
       "dtype: object"
      ]
     },
     "execution_count": 12,
     "metadata": {},
     "output_type": "execute_result"
    }
   ],
   "source": [
    "dataset.dtypes"
   ]
  },
  {
   "cell_type": "code",
   "execution_count": 14,
   "metadata": {},
   "outputs": [],
   "source": [
    "# Replace zeroes\n",
    "zero_not_accepted = ['plas', 'pres' , 'skin', 'insu', 'mass']\n",
    "\n",
    "for column in zero_not_accepted:\n",
    "    dataset[column] = dataset[column].replace(0, np.NaN)\n",
    "    mean = int(dataset[column].mean(skipna=True))\n",
    "    dataset[column] = dataset[column].replace(np.NaN, mean)"
   ]
  },
  {
   "cell_type": "code",
   "execution_count": 17,
   "metadata": {},
   "outputs": [
    {
     "data": {
      "text/html": [
       "<div>\n",
       "<style scoped>\n",
       "    .dataframe tbody tr th:only-of-type {\n",
       "        vertical-align: middle;\n",
       "    }\n",
       "\n",
       "    .dataframe tbody tr th {\n",
       "        vertical-align: top;\n",
       "    }\n",
       "\n",
       "    .dataframe thead th {\n",
       "        text-align: right;\n",
       "    }\n",
       "</style>\n",
       "<table border=\"1\" class=\"dataframe\">\n",
       "  <thead>\n",
       "    <tr style=\"text-align: right;\">\n",
       "      <th></th>\n",
       "      <th>preg</th>\n",
       "      <th>plas</th>\n",
       "      <th>pres</th>\n",
       "      <th>skin</th>\n",
       "      <th>insu</th>\n",
       "      <th>mass</th>\n",
       "      <th>pedi</th>\n",
       "      <th>age</th>\n",
       "      <th>class</th>\n",
       "    </tr>\n",
       "  </thead>\n",
       "  <tbody>\n",
       "    <tr>\n",
       "      <th>0</th>\n",
       "      <td>6</td>\n",
       "      <td>148.0</td>\n",
       "      <td>72.0</td>\n",
       "      <td>35.0</td>\n",
       "      <td>155.0</td>\n",
       "      <td>33.6</td>\n",
       "      <td>0.627</td>\n",
       "      <td>50</td>\n",
       "      <td>tested_positive</td>\n",
       "    </tr>\n",
       "    <tr>\n",
       "      <th>1</th>\n",
       "      <td>1</td>\n",
       "      <td>85.0</td>\n",
       "      <td>66.0</td>\n",
       "      <td>29.0</td>\n",
       "      <td>155.0</td>\n",
       "      <td>26.6</td>\n",
       "      <td>0.351</td>\n",
       "      <td>31</td>\n",
       "      <td>tested_negative</td>\n",
       "    </tr>\n",
       "    <tr>\n",
       "      <th>2</th>\n",
       "      <td>8</td>\n",
       "      <td>183.0</td>\n",
       "      <td>64.0</td>\n",
       "      <td>29.0</td>\n",
       "      <td>155.0</td>\n",
       "      <td>23.3</td>\n",
       "      <td>0.672</td>\n",
       "      <td>32</td>\n",
       "      <td>tested_positive</td>\n",
       "    </tr>\n",
       "    <tr>\n",
       "      <th>3</th>\n",
       "      <td>1</td>\n",
       "      <td>89.0</td>\n",
       "      <td>66.0</td>\n",
       "      <td>23.0</td>\n",
       "      <td>94.0</td>\n",
       "      <td>28.1</td>\n",
       "      <td>0.167</td>\n",
       "      <td>21</td>\n",
       "      <td>tested_negative</td>\n",
       "    </tr>\n",
       "    <tr>\n",
       "      <th>4</th>\n",
       "      <td>0</td>\n",
       "      <td>137.0</td>\n",
       "      <td>40.0</td>\n",
       "      <td>35.0</td>\n",
       "      <td>168.0</td>\n",
       "      <td>43.1</td>\n",
       "      <td>2.288</td>\n",
       "      <td>33</td>\n",
       "      <td>tested_positive</td>\n",
       "    </tr>\n",
       "  </tbody>\n",
       "</table>\n",
       "</div>"
      ],
      "text/plain": [
       "   preg   plas  pres  skin   insu  mass   pedi  age            class\n",
       "0     6  148.0  72.0  35.0  155.0  33.6  0.627   50  tested_positive\n",
       "1     1   85.0  66.0  29.0  155.0  26.6  0.351   31  tested_negative\n",
       "2     8  183.0  64.0  29.0  155.0  23.3  0.672   32  tested_positive\n",
       "3     1   89.0  66.0  23.0   94.0  28.1  0.167   21  tested_negative\n",
       "4     0  137.0  40.0  35.0  168.0  43.1  2.288   33  tested_positive"
      ]
     },
     "execution_count": 17,
     "metadata": {},
     "output_type": "execute_result"
    }
   ],
   "source": [
    "dataset.head()"
   ]
  },
  {
   "cell_type": "code",
   "execution_count": 24,
   "metadata": {},
   "outputs": [],
   "source": [
    "# Split dataset\n",
    "X = dataset.iloc[:, 0:8]\n",
    "y = dataset.iloc[:,8]"
   ]
  },
  {
   "cell_type": "code",
   "execution_count": 27,
   "metadata": {},
   "outputs": [],
   "source": [
    "X_train , X_test, y_train , y_test = train_test_split(X ,y ,random_state=0 ,test_size= 0.3 )"
   ]
  },
  {
   "cell_type": "code",
   "execution_count": 28,
   "metadata": {},
   "outputs": [],
   "source": [
    "# Rule of thumb: Any algorithm that computes distance or assumes normality, scale your features\n",
    "\n",
    "# Feature Scalling\n",
    "sc_X = StandardScaler()\n",
    "X_train = sc_X.fit_transform(X_train)\n",
    "X_test = sc_X.fit_transform(X_test)"
   ]
  },
  {
   "cell_type": "code",
   "execution_count": 29,
   "metadata": {},
   "outputs": [
    {
     "data": {
      "text/plain": [
       "array([[-1.13311543,  0.93797487,  1.42887509, ...,  1.34232309,\n",
       "        -0.3002719 , -1.05654479],\n",
       "       [-0.8391623 , -1.29569477, -0.42228516, ..., -2.08220575,\n",
       "         0.45699051, -0.55622332],\n",
       "       [-0.54520916, -0.01461954, -0.25399786, ...,  0.58290875,\n",
       "        -0.39305899, -0.55622332],\n",
       "       ...,\n",
       "       [ 0.0426971 , -0.93436586, -0.6747161 , ..., -1.15084853,\n",
       "        -0.96774035, -1.05654479],\n",
       "       [ 2.10036903, -1.22999861,  0.08257673, ..., -0.37710562,\n",
       "        -0.51278428,  0.11087198],\n",
       "       [ 0.33665024,  0.44525362,  0.75572591, ..., -0.10486274,\n",
       "         0.50488062,  2.94602702]])"
      ]
     },
     "execution_count": 29,
     "metadata": {},
     "output_type": "execute_result"
    }
   ],
   "source": [
    "X_train"
   ]
  },
  {
   "cell_type": "code",
   "execution_count": 30,
   "metadata": {},
   "outputs": [],
   "source": [
    "# Predict daibetes"
   ]
  },
  {
   "cell_type": "code",
   "execution_count": 31,
   "metadata": {},
   "outputs": [
    {
     "data": {
      "text/plain": [
       "15.198684153570664"
      ]
     },
     "execution_count": 31,
     "metadata": {},
     "output_type": "execute_result"
    }
   ],
   "source": [
    "# Choosing the k value\n",
    "import math\n",
    "math.sqrt(len(y_test))"
   ]
  },
  {
   "cell_type": "code",
   "execution_count": null,
   "metadata": {},
   "outputs": [],
   "source": [
    "# Remeber k has to be an odd number, you can either substract or add 1"
   ]
  },
  {
   "cell_type": "code",
   "execution_count": 32,
   "metadata": {},
   "outputs": [],
   "source": [
    "# Define the model: Init K-NN\n",
    "knn_classifier = KNeighborsClassifier(n_neighbors = 15, p=2 , metric='euclidean')"
   ]
  },
  {
   "cell_type": "code",
   "execution_count": 33,
   "metadata": {},
   "outputs": [
    {
     "data": {
      "text/plain": [
       "KNeighborsClassifier(algorithm='auto', leaf_size=30, metric='euclidean',\n",
       "                     metric_params=None, n_jobs=None, n_neighbors=15, p=2,\n",
       "                     weights='uniform')"
      ]
     },
     "execution_count": 33,
     "metadata": {},
     "output_type": "execute_result"
    }
   ],
   "source": [
    "# Fit Model\n",
    "knn_classifier.fit(X_train, y_train)"
   ]
  },
  {
   "cell_type": "code",
   "execution_count": 34,
   "metadata": {},
   "outputs": [
    {
     "data": {
      "text/plain": [
       "array(['tested_positive', 'tested_negative', 'tested_negative',\n",
       "       'tested_positive', 'tested_negative', 'tested_negative',\n",
       "       'tested_positive', 'tested_positive', 'tested_negative',\n",
       "       'tested_negative', 'tested_positive', 'tested_positive',\n",
       "       'tested_negative', 'tested_negative', 'tested_negative',\n",
       "       'tested_negative', 'tested_positive', 'tested_negative',\n",
       "       'tested_negative', 'tested_negative', 'tested_positive',\n",
       "       'tested_negative', 'tested_negative', 'tested_negative',\n",
       "       'tested_negative', 'tested_negative', 'tested_negative',\n",
       "       'tested_positive', 'tested_negative', 'tested_negative',\n",
       "       'tested_positive', 'tested_negative', 'tested_negative',\n",
       "       'tested_positive', 'tested_negative', 'tested_positive',\n",
       "       'tested_negative', 'tested_negative', 'tested_negative',\n",
       "       'tested_positive', 'tested_negative', 'tested_negative',\n",
       "       'tested_negative', 'tested_positive', 'tested_positive',\n",
       "       'tested_negative', 'tested_negative', 'tested_negative',\n",
       "       'tested_negative', 'tested_negative', 'tested_positive',\n",
       "       'tested_negative', 'tested_positive', 'tested_positive',\n",
       "       'tested_negative', 'tested_negative', 'tested_negative',\n",
       "       'tested_positive', 'tested_negative', 'tested_positive',\n",
       "       'tested_positive', 'tested_positive', 'tested_negative',\n",
       "       'tested_positive', 'tested_positive', 'tested_positive',\n",
       "       'tested_positive', 'tested_negative', 'tested_positive',\n",
       "       'tested_negative', 'tested_negative', 'tested_negative',\n",
       "       'tested_negative', 'tested_positive', 'tested_positive',\n",
       "       'tested_negative', 'tested_negative', 'tested_positive',\n",
       "       'tested_negative', 'tested_negative', 'tested_negative',\n",
       "       'tested_negative', 'tested_negative', 'tested_negative',\n",
       "       'tested_negative', 'tested_negative', 'tested_negative',\n",
       "       'tested_negative', 'tested_positive', 'tested_negative',\n",
       "       'tested_negative', 'tested_negative', 'tested_negative',\n",
       "       'tested_negative', 'tested_positive', 'tested_negative',\n",
       "       'tested_negative', 'tested_positive', 'tested_positive',\n",
       "       'tested_positive', 'tested_negative', 'tested_negative',\n",
       "       'tested_negative', 'tested_negative', 'tested_positive',\n",
       "       'tested_negative', 'tested_negative', 'tested_negative',\n",
       "       'tested_negative', 'tested_positive', 'tested_negative',\n",
       "       'tested_negative', 'tested_positive', 'tested_positive',\n",
       "       'tested_positive', 'tested_positive', 'tested_negative',\n",
       "       'tested_positive', 'tested_negative', 'tested_positive',\n",
       "       'tested_negative', 'tested_negative', 'tested_negative',\n",
       "       'tested_negative', 'tested_negative', 'tested_negative',\n",
       "       'tested_negative', 'tested_negative', 'tested_negative',\n",
       "       'tested_negative', 'tested_negative', 'tested_negative',\n",
       "       'tested_negative', 'tested_positive', 'tested_negative',\n",
       "       'tested_positive', 'tested_negative', 'tested_negative',\n",
       "       'tested_negative', 'tested_negative', 'tested_negative',\n",
       "       'tested_positive', 'tested_negative', 'tested_negative',\n",
       "       'tested_positive', 'tested_negative', 'tested_negative',\n",
       "       'tested_negative', 'tested_negative', 'tested_negative',\n",
       "       'tested_negative', 'tested_positive', 'tested_negative',\n",
       "       'tested_negative', 'tested_positive', 'tested_negative',\n",
       "       'tested_positive', 'tested_negative', 'tested_negative',\n",
       "       'tested_positive', 'tested_positive', 'tested_negative',\n",
       "       'tested_negative', 'tested_negative', 'tested_positive',\n",
       "       'tested_negative', 'tested_negative', 'tested_negative',\n",
       "       'tested_negative', 'tested_positive', 'tested_negative',\n",
       "       'tested_negative', 'tested_negative', 'tested_positive',\n",
       "       'tested_negative', 'tested_negative', 'tested_negative',\n",
       "       'tested_negative', 'tested_negative', 'tested_negative',\n",
       "       'tested_negative', 'tested_positive', 'tested_negative',\n",
       "       'tested_positive', 'tested_negative', 'tested_negative',\n",
       "       'tested_negative', 'tested_negative', 'tested_negative',\n",
       "       'tested_negative', 'tested_negative', 'tested_negative',\n",
       "       'tested_negative', 'tested_negative', 'tested_negative',\n",
       "       'tested_positive', 'tested_positive', 'tested_positive',\n",
       "       'tested_negative', 'tested_negative', 'tested_negative',\n",
       "       'tested_negative', 'tested_negative', 'tested_positive',\n",
       "       'tested_negative', 'tested_negative', 'tested_negative',\n",
       "       'tested_negative', 'tested_negative', 'tested_negative',\n",
       "       'tested_negative', 'tested_negative', 'tested_negative',\n",
       "       'tested_negative', 'tested_negative', 'tested_negative',\n",
       "       'tested_negative', 'tested_negative', 'tested_negative',\n",
       "       'tested_negative', 'tested_negative', 'tested_negative',\n",
       "       'tested_positive', 'tested_positive', 'tested_positive',\n",
       "       'tested_positive', 'tested_negative', 'tested_negative',\n",
       "       'tested_negative', 'tested_negative', 'tested_positive'],\n",
       "      dtype=object)"
      ]
     },
     "execution_count": 34,
     "metadata": {},
     "output_type": "execute_result"
    }
   ],
   "source": [
    "# Predict the test set result\n",
    "y_pred = knn_classifier.predict(X_test)\n",
    "y_pred"
   ]
  },
  {
   "cell_type": "code",
   "execution_count": 35,
   "metadata": {},
   "outputs": [
    {
     "data": {
      "text/plain": [
       "array([[134,  23],\n",
       "       [ 31,  43]], dtype=int64)"
      ]
     },
     "execution_count": 35,
     "metadata": {},
     "output_type": "execute_result"
    }
   ],
   "source": [
    "# Evaluate Model\n",
    "cm = confusion_matrix(y_test, y_pred)\n",
    "cm"
   ]
  },
  {
   "cell_type": "code",
   "execution_count": 36,
   "metadata": {},
   "outputs": [],
   "source": [
    "# Our model said 134 of people that were classifiered as not having diabetes 24 have it\n",
    "# 31 more out of the 43 that were initial predicted have diabetes"
   ]
  },
  {
   "cell_type": "code",
   "execution_count": 44,
   "metadata": {},
   "outputs": [
    {
     "data": {
      "text/plain": [
       "0.7662337662337663"
      ]
     },
     "execution_count": 44,
     "metadata": {},
     "output_type": "execute_result"
    }
   ],
   "source": [
    "accuracy_score(y_test, y_pred)"
   ]
  },
  {
   "cell_type": "code",
   "execution_count": null,
   "metadata": {},
   "outputs": [],
   "source": [
    "# So, we have created a model using KNN which can predict whether a person will have diabetes or not"
   ]
  }
 ],
 "metadata": {
  "kernelspec": {
   "display_name": "Python 3",
   "language": "python",
   "name": "python3"
  },
  "language_info": {
   "codemirror_mode": {
    "name": "ipython",
    "version": 3
   },
   "file_extension": ".py",
   "mimetype": "text/x-python",
   "name": "python",
   "nbconvert_exporter": "python",
   "pygments_lexer": "ipython3",
   "version": "3.7.6"
  }
 },
 "nbformat": 4,
 "nbformat_minor": 4
}
